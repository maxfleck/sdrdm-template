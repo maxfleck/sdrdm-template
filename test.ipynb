{
 "cells": [
  {
   "cell_type": "code",
   "execution_count": 1,
   "id": "9aec31e8",
   "metadata": {},
   "outputs": [],
   "source": [
    "from sdRDM import DataModel"
   ]
  },
  {
   "cell_type": "code",
   "execution_count": 3,
   "id": "5e0a0c94",
   "metadata": {},
   "outputs": [
    {
     "name": "stdout",
     "output_type": "stream",
     "text": [
      "Root\n",
      "├── id\n",
      "├── description\n",
      "├── title\n",
      "├── subject\n",
      "├── authors\n",
      "│   └── 0\n",
      "│       ├── id\n",
      "│       ├── name\n",
      "│       └── affiliation\n",
      "└── parameters\n",
      "    └── 0\n",
      "        ├── id\n",
      "        ├── key\n",
      "        └── value\n",
      "id: root1\n",
      "description: Thermo ML stuff...\n",
      "title: Thermo ML\n",
      "authors:\n",
      "  - id: author1\n",
      "    name: Maximilian Fleck\n",
      "    affiliation: SimTech CRC1333\n",
      "parameters:\n",
      "  - id: parameter1\n",
      "    key: Param\n",
      "    value: 10.0\n",
      "__source__:\n",
      "  root: Root\n",
      "  repo: https://github.com/maxfleck/sdrdm-template.git\n",
      "  commit: bd814fd6241d26d5e13618035d1317d8913d9879\n",
      "  url: https://github.com/maxfleck/sdrdm-template/tree/bd814fd6241d26d5e13618035d1317d8913d9879\n",
      "\n"
     ]
    }
   ],
   "source": [
    "lib = DataModel.from_git(\n",
    "    url=\"https://github.com/maxfleck/sdrdm-template.git\",\n",
    ")\n",
    "\n",
    "# Visualize the data model\n",
    "lib.Root.meta_tree()\n",
    "\n",
    "# Enter your data\n",
    "dataset = lib.Root(title=\"Thermo ML\", description=\"Thermo ML stuff...\")\n",
    "\n",
    "# There are add-functions generated with whom you are able to add\n",
    "# objects to your dataset. These functions are named after the object\n",
    "# they are adding to and are prefixed with \"add_to_\". The add-function\n",
    "# will return the object that was added to the dataset. You can use this\n",
    "# object to add further objects to it or manipulate it in any other way.\n",
    "\n",
    "author = dataset.add_to_authors(name=\"Maximilian Fleck\", affiliation=\"SimTech CRC1333\")\n",
    "parameter = dataset.add_to_parameters(key=\"Param\", value=10.0)\n",
    "\n",
    "# Inspect your dataset\n",
    "print(dataset.yaml())\n",
    "\n",
    "# Option: Export your dataset to another format\n",
    "with open(\"my_dataset.json\", \"w\") as f:\n",
    "    f.write(dataset.json())\n",
    "\n",
    "# Re-opening your dataset using sdRDM will cause the library\n",
    "# to re-build the software state in which the dataset was created"
   ]
  },
  {
   "cell_type": "code",
   "execution_count": null,
   "id": "4947b5b7",
   "metadata": {},
   "outputs": [],
   "source": []
  }
 ],
 "metadata": {
  "kernelspec": {
   "display_name": "Python 3 (ipykernel)",
   "language": "python",
   "name": "python3"
  },
  "language_info": {
   "codemirror_mode": {
    "name": "ipython",
    "version": 3
   },
   "file_extension": ".py",
   "mimetype": "text/x-python",
   "name": "python",
   "nbconvert_exporter": "python",
   "pygments_lexer": "ipython3",
   "version": "3.10.12"
  }
 },
 "nbformat": 4,
 "nbformat_minor": 5
}
